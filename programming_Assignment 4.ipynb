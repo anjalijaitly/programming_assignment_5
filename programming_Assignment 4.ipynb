{
 "cells": [
  {
   "cell_type": "code",
   "execution_count": 3,
   "id": "2692a3b3",
   "metadata": {},
   "outputs": [
    {
     "name": "stdout",
     "output_type": "stream",
     "text": [
      "Enter the number to get its factorial: 7\n",
      "5040\n"
     ]
    }
   ],
   "source": [
    "#q1 Write a Python program to find the factorial of a Number.\n",
    "\n",
    "try:\n",
    "    a=int(input(\"Enter the number to get its factorial: \"))\n",
    "    b=1\n",
    "    \n",
    "    for i in range(1,a+1):\n",
    "        b=b*i\n",
    "    print(b)\n",
    "except ValueError:\n",
    "    print(\"Enter an integer.\")\n"
   ]
  },
  {
   "cell_type": "code",
   "execution_count": 17,
   "id": "fd2e5e1d",
   "metadata": {},
   "outputs": [
    {
     "name": "stdout",
     "output_type": "stream",
     "text": [
      "Enter the number for Displaying the table: 19\n",
      "19 x 1 = 19\n",
      "19 x 2 = 38\n",
      "19 x 3 = 57\n",
      "19 x 4 = 76\n",
      "19 x 5 = 95\n",
      "19 x 6 = 114\n",
      "19 x 7 = 133\n",
      "19 x 8 = 152\n",
      "19 x 9 = 171\n",
      "19 x 10 = 190\n"
     ]
    }
   ],
   "source": [
    "#q2 Write a Python program to Display the Multiplication table.\n",
    "\n",
    "try:\n",
    "    a=int(input(\"Enter the number for Displaying the table: \"))\n",
    "    t=1\n",
    "    for i in range (1,11):\n",
    "        t=a*i\n",
    "        print(a, \"x\", it)\n",
    "        \n",
    "except ValueError:\n",
    "    print(\"Enter an integer\")"
   ]
  },
  {
   "cell_type": "code",
   "execution_count": 30,
   "id": "f40bce93",
   "metadata": {},
   "outputs": [
    {
     "name": "stdout",
     "output_type": "stream",
     "text": [
      "Enter the position to which you want to generate the Fibonnaci sequence: 15\n",
      "0\n",
      "1\n",
      "1\n",
      "2\n",
      "3\n",
      "5\n",
      "8\n",
      "13\n",
      "21\n",
      "34\n",
      "55\n",
      "89\n",
      "144\n",
      "233\n",
      "377\n"
     ]
    }
   ],
   "source": [
    "# q3 Write a Python program to print the Fibonacci sequence.\n",
    "\n",
    "try:\n",
    "    a=int(input(\"Enter the position to which you want to generate the Fibonnaci sequence: \"))\n",
    "    b=1\n",
    "    c=0\n",
    "    \n",
    "    for i in range(a):\n",
    "        print(c)\n",
    "        b,c=c,b+c\n",
    "except ValueError:\n",
    "    print(\"Enter an integer\")\n",
    "    \n",
    "    \n",
    "\n"
   ]
  },
  {
   "cell_type": "code",
   "execution_count": 21,
   "id": "9d2b1ce1",
   "metadata": {},
   "outputs": [
    {
     "name": "stdout",
     "output_type": "stream",
     "text": [
      "Enter a nunber to check Armstrong number: 407\n",
      "It is an Armstrong number\n"
     ]
    }
   ],
   "source": [
    "# q4 Write a Python Program to check Armstrong number.\n",
    "\n",
    "try:\n",
    "    a=int(input(\"Enter a nunber to check Armstrong number: \"))\n",
    "    l=len(str(a))\n",
    "    b=0\n",
    "    c=str(a)\n",
    "    for i in range(l):\n",
    "            b=b+(int(c[i]))**l\n",
    "    #print(b)\n",
    "    if a==b:\n",
    "        print(\"It is an Armstrong number\")\n",
    "    else:\n",
    "        print(\"It is not an armstrong number\")\n",
    "\n",
    "except ValueError:\n",
    "    print(\"Enter an integer\")\n",
    "\n",
    "          \n"
   ]
  },
  {
   "cell_type": "code",
   "execution_count": 3,
   "id": "112b6c6f",
   "metadata": {},
   "outputs": [
    {
     "name": "stdout",
     "output_type": "stream",
     "text": [
      "ENTER THE RANGE FOR GENERATING ARMSTRONG NUMBERS\n",
      "Enter the first number: 1\n",
      "Enter the second number: 10000\n",
      "1\n",
      "2\n",
      "3\n",
      "4\n",
      "5\n",
      "6\n",
      "7\n",
      "8\n",
      "9\n",
      "153\n",
      "370\n",
      "371\n",
      "407\n",
      "1634\n",
      "8208\n",
      "9474\n"
     ]
    }
   ],
   "source": [
    "# q5 Write a program to find Armstrong Number in an interval.\n",
    "try:\n",
    "    print(\"ENTER THE RANGE FOR GENERATING ARMSTRONG NUMBERS\")\n",
    "    a=int(input(\"Enter the first number: \"))\n",
    "    b=int(input(\"Enter the second number: \"))\n",
    "    for i in range(a,b+1):\n",
    "        l=len(str(i))\n",
    "        s=str(i)\n",
    "        c=0\n",
    "        for j in range(l):\n",
    "            c=c+(int(s[j]))**l\n",
    "        if c==i:\n",
    "            print(i)\n",
    "except ValueError:\n",
    "    print(\"Enter an integer\")\n",
    "            \n",
    "    "
   ]
  },
  {
   "cell_type": "code",
   "execution_count": 9,
   "id": "6374340f",
   "metadata": {},
   "outputs": [
    {
     "name": "stdout",
     "output_type": "stream",
     "text": [
      "Enter the number to find the natural numbers upto the number: 100\n",
      "5050.0\n"
     ]
    }
   ],
   "source": [
    "#q6 Write a program to Find the sum of Natural Nmubers\n",
    "\n",
    "try:\n",
    "    a=int(input(\"Enter the number to find the natural numbers upto the number: \"))\n",
    "    b=a*(a+1)/2\n",
    "    print (b)\n",
    "except ValueError:\n",
    "    print(\"Enter an integer\")"
   ]
  },
  {
   "cell_type": "code",
   "execution_count": 13,
   "id": "5f116fa9",
   "metadata": {},
   "outputs": [
    {
     "name": "stdout",
     "output_type": "stream",
     "text": [
      "Enter the number to find the natural numbers upto the number: 100\n",
      "5050\n"
     ]
    }
   ],
   "source": [
    "#q6 Write a program to Find the sum of Natural Nmubers WITHOUT FORMULA\n",
    "try:\n",
    "    a=int(input(\"Enter the number to find the natural numbers upto the number: \"))\n",
    "    b=0\n",
    "    for i in range(a+1):\n",
    "        b=b+i\n",
    "    print (b)\n",
    "except ValueError:\n",
    "    print(\"Enter an integer\")\n"
   ]
  },
  {
   "cell_type": "code",
   "execution_count": null,
   "id": "860c0f6d",
   "metadata": {},
   "outputs": [],
   "source": []
  }
 ],
 "metadata": {
  "kernelspec": {
   "display_name": "Python 3 (ipykernel)",
   "language": "python",
   "name": "python3"
  },
  "language_info": {
   "codemirror_mode": {
    "name": "ipython",
    "version": 3
   },
   "file_extension": ".py",
   "mimetype": "text/x-python",
   "name": "python",
   "nbconvert_exporter": "python",
   "pygments_lexer": "ipython3",
   "version": "3.9.12"
  }
 },
 "nbformat": 4,
 "nbformat_minor": 5
}
